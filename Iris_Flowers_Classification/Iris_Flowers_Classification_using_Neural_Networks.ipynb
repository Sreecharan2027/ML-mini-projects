{
  "nbformat": 4,
  "nbformat_minor": 0,
  "metadata": {
    "colab": {
      "provenance": [],
      "gpuType": "T4"
    },
    "kernelspec": {
      "name": "python3",
      "display_name": "Python 3"
    },
    "language_info": {
      "name": "python"
    },
    "accelerator": "GPU"
  },
  "cells": [
    {
      "cell_type": "markdown",
      "source": [
        "# **Import Libaries**"
      ],
      "metadata": {
        "id": "h_Lmm4GTbP0W"
      }
    },
    {
      "cell_type": "code",
      "source": [
        "import numpy as np\n",
        "from sklearn.datasets import load_iris\n",
        "from sklearn.model_selection import train_test_split\n",
        "from sklearn.preprocessing import StandardScaler\n",
        "from sklearn.preprocessing import OneHotEncoder\n",
        "from tensorflow.keras.models import Sequential\n",
        "from tensorflow.keras.layers import Dense\n",
        "from tensorflow.keras.utils import to_categorical"
      ],
      "metadata": {
        "id": "bTkUL0xrba2s"
      },
      "execution_count": null,
      "outputs": []
    },
    {
      "cell_type": "markdown",
      "source": [
        "# **Load the dataset**"
      ],
      "metadata": {
        "id": "cGutVoh3bdf-"
      }
    },
    {
      "cell_type": "code",
      "source": [
        "iris = load_iris()\n",
        "X = iris.data  # Features (sepal length, sepal width, petal length, petal width)\n",
        "y = iris.target  # Target variable (species)\n",
        "\n",
        "encoder = OneHotEncoder(sparse=False)\n",
        "y_onehot = encoder.fit_transform(y.reshape(-1, 1))"
      ],
      "metadata": {
        "colab": {
          "base_uri": "https://localhost:8080/"
        },
        "id": "uKOmZzzdbjtf",
        "outputId": "695589fb-89f5-4f8c-a948-b18e03542035"
      },
      "execution_count": null,
      "outputs": [
        {
          "output_type": "stream",
          "name": "stderr",
          "text": [
            "/usr/local/lib/python3.10/dist-packages/sklearn/preprocessing/_encoders.py:868: FutureWarning: `sparse` was renamed to `sparse_output` in version 1.2 and will be removed in 1.4. `sparse_output` is ignored unless you leave `sparse` to its default value.\n",
            "  warnings.warn(\n"
          ]
        }
      ]
    },
    {
      "cell_type": "markdown",
      "source": [
        "Split the data set"
      ],
      "metadata": {
        "id": "TkD3guGedJ8y"
      }
    },
    {
      "cell_type": "code",
      "source": [
        "X_train, X_test, y_train, y_test = train_test_split(X, y_onehot, test_size=0.2, random_state=42)\n",
        "\n",
        "scaler = StandardScaler()\n",
        "X_train = scaler.fit_transform(X_train)\n",
        "X_test = scaler.transform(X_test)"
      ],
      "metadata": {
        "id": "MlBvsfYCdJlY"
      },
      "execution_count": null,
      "outputs": []
    },
    {
      "cell_type": "markdown",
      "source": [
        "# **neural network model**"
      ],
      "metadata": {
        "id": "mpsSHZZzdpzG"
      }
    },
    {
      "cell_type": "code",
      "source": [
        "model = Sequential()\n",
        "model.add(Dense(8, input_dim=4, activation='relu'))\n",
        "model.add(Dense(3, activation='softmax'))\n",
        "\n",
        "# Compile\n",
        "model.compile(loss='categorical_crossentropy', optimizer='adam', metrics=['accuracy'])"
      ],
      "metadata": {
        "id": "5LjEEOjFc6wg"
      },
      "execution_count": null,
      "outputs": []
    },
    {
      "cell_type": "markdown",
      "source": [
        "# **Train the model**"
      ],
      "metadata": {
        "id": "N1JG9c7keLda"
      }
    },
    {
      "cell_type": "code",
      "source": [
        "model.fit(X_train, y_train, epochs=50, batch_size=10, verbose=1)"
      ],
      "metadata": {
        "colab": {
          "base_uri": "https://localhost:8080/"
        },
        "id": "mWQm65hceUGT",
        "outputId": "56fa0a65-aa2d-4ca1-a67b-5d5c3aa9b3fc"
      },
      "execution_count": null,
      "outputs": [
        {
          "output_type": "stream",
          "name": "stdout",
          "text": [
            "Epoch 1/50\n",
            "12/12 [==============================] - 0s 4ms/step - loss: 0.2824 - accuracy: 0.8917\n",
            "Epoch 2/50\n",
            "12/12 [==============================] - 0s 4ms/step - loss: 0.2794 - accuracy: 0.8917\n",
            "Epoch 3/50\n",
            "12/12 [==============================] - 0s 4ms/step - loss: 0.2763 - accuracy: 0.9000\n",
            "Epoch 4/50\n",
            "12/12 [==============================] - 0s 4ms/step - loss: 0.2734 - accuracy: 0.9000\n",
            "Epoch 5/50\n",
            "12/12 [==============================] - 0s 4ms/step - loss: 0.2707 - accuracy: 0.9000\n",
            "Epoch 6/50\n",
            "12/12 [==============================] - 0s 4ms/step - loss: 0.2675 - accuracy: 0.9000\n",
            "Epoch 7/50\n",
            "12/12 [==============================] - 0s 6ms/step - loss: 0.2648 - accuracy: 0.9000\n",
            "Epoch 8/50\n",
            "12/12 [==============================] - 0s 4ms/step - loss: 0.2619 - accuracy: 0.9000\n",
            "Epoch 9/50\n",
            "12/12 [==============================] - 0s 6ms/step - loss: 0.2593 - accuracy: 0.9000\n",
            "Epoch 10/50\n",
            "12/12 [==============================] - 0s 5ms/step - loss: 0.2565 - accuracy: 0.9083\n",
            "Epoch 11/50\n",
            "12/12 [==============================] - 0s 6ms/step - loss: 0.2541 - accuracy: 0.9083\n",
            "Epoch 12/50\n",
            "12/12 [==============================] - 0s 4ms/step - loss: 0.2512 - accuracy: 0.9083\n",
            "Epoch 13/50\n",
            "12/12 [==============================] - 0s 4ms/step - loss: 0.2488 - accuracy: 0.9083\n",
            "Epoch 14/50\n",
            "12/12 [==============================] - 0s 4ms/step - loss: 0.2461 - accuracy: 0.9083\n",
            "Epoch 15/50\n",
            "12/12 [==============================] - 0s 3ms/step - loss: 0.2436 - accuracy: 0.9167\n",
            "Epoch 16/50\n",
            "12/12 [==============================] - 0s 3ms/step - loss: 0.2413 - accuracy: 0.9167\n",
            "Epoch 17/50\n",
            "12/12 [==============================] - 0s 3ms/step - loss: 0.2387 - accuracy: 0.9167\n",
            "Epoch 18/50\n",
            "12/12 [==============================] - 0s 3ms/step - loss: 0.2361 - accuracy: 0.9167\n",
            "Epoch 19/50\n",
            "12/12 [==============================] - 0s 3ms/step - loss: 0.2336 - accuracy: 0.9250\n",
            "Epoch 20/50\n",
            "12/12 [==============================] - 0s 3ms/step - loss: 0.2314 - accuracy: 0.9250\n",
            "Epoch 21/50\n",
            "12/12 [==============================] - 0s 3ms/step - loss: 0.2289 - accuracy: 0.9250\n",
            "Epoch 22/50\n",
            "12/12 [==============================] - 0s 3ms/step - loss: 0.2267 - accuracy: 0.9250\n",
            "Epoch 23/50\n",
            "12/12 [==============================] - 0s 3ms/step - loss: 0.2243 - accuracy: 0.9250\n",
            "Epoch 24/50\n",
            "12/12 [==============================] - 0s 3ms/step - loss: 0.2220 - accuracy: 0.9250\n",
            "Epoch 25/50\n",
            "12/12 [==============================] - 0s 3ms/step - loss: 0.2197 - accuracy: 0.9333\n",
            "Epoch 26/50\n",
            "12/12 [==============================] - 0s 3ms/step - loss: 0.2176 - accuracy: 0.9333\n",
            "Epoch 27/50\n",
            "12/12 [==============================] - 0s 3ms/step - loss: 0.2154 - accuracy: 0.9333\n",
            "Epoch 28/50\n",
            "12/12 [==============================] - 0s 3ms/step - loss: 0.2133 - accuracy: 0.9417\n",
            "Epoch 29/50\n",
            "12/12 [==============================] - 0s 3ms/step - loss: 0.2112 - accuracy: 0.9417\n",
            "Epoch 30/50\n",
            "12/12 [==============================] - 0s 3ms/step - loss: 0.2094 - accuracy: 0.9417\n",
            "Epoch 31/50\n",
            "12/12 [==============================] - 0s 3ms/step - loss: 0.2072 - accuracy: 0.9417\n",
            "Epoch 32/50\n",
            "12/12 [==============================] - 0s 3ms/step - loss: 0.2058 - accuracy: 0.9417\n",
            "Epoch 33/50\n",
            "12/12 [==============================] - 0s 3ms/step - loss: 0.2029 - accuracy: 0.9500\n",
            "Epoch 34/50\n",
            "12/12 [==============================] - 0s 3ms/step - loss: 0.2007 - accuracy: 0.9417\n",
            "Epoch 35/50\n",
            "12/12 [==============================] - 0s 3ms/step - loss: 0.1988 - accuracy: 0.9417\n",
            "Epoch 36/50\n",
            "12/12 [==============================] - 0s 3ms/step - loss: 0.1969 - accuracy: 0.9500\n",
            "Epoch 37/50\n",
            "12/12 [==============================] - 0s 3ms/step - loss: 0.1949 - accuracy: 0.9500\n",
            "Epoch 38/50\n",
            "12/12 [==============================] - 0s 3ms/step - loss: 0.1934 - accuracy: 0.9500\n",
            "Epoch 39/50\n",
            "12/12 [==============================] - 0s 3ms/step - loss: 0.1914 - accuracy: 0.9500\n",
            "Epoch 40/50\n",
            "12/12 [==============================] - 0s 3ms/step - loss: 0.1894 - accuracy: 0.9500\n",
            "Epoch 41/50\n",
            "12/12 [==============================] - 0s 3ms/step - loss: 0.1875 - accuracy: 0.9500\n",
            "Epoch 42/50\n",
            "12/12 [==============================] - 0s 3ms/step - loss: 0.1860 - accuracy: 0.9500\n",
            "Epoch 43/50\n",
            "12/12 [==============================] - 0s 3ms/step - loss: 0.1841 - accuracy: 0.9500\n",
            "Epoch 44/50\n",
            "12/12 [==============================] - 0s 3ms/step - loss: 0.1821 - accuracy: 0.9500\n",
            "Epoch 45/50\n",
            "12/12 [==============================] - 0s 3ms/step - loss: 0.1805 - accuracy: 0.9500\n",
            "Epoch 46/50\n",
            "12/12 [==============================] - 0s 3ms/step - loss: 0.1787 - accuracy: 0.9500\n",
            "Epoch 47/50\n",
            "12/12 [==============================] - 0s 3ms/step - loss: 0.1771 - accuracy: 0.9583\n",
            "Epoch 48/50\n",
            "12/12 [==============================] - 0s 3ms/step - loss: 0.1755 - accuracy: 0.9583\n",
            "Epoch 49/50\n",
            "12/12 [==============================] - 0s 3ms/step - loss: 0.1737 - accuracy: 0.9583\n",
            "Epoch 50/50\n",
            "12/12 [==============================] - 0s 3ms/step - loss: 0.1725 - accuracy: 0.9583\n"
          ]
        },
        {
          "output_type": "execute_result",
          "data": {
            "text/plain": [
              "<keras.src.callbacks.History at 0x78a6d0246b60>"
            ]
          },
          "metadata": {},
          "execution_count": 12
        }
      ]
    },
    {
      "cell_type": "markdown",
      "source": [
        "# **Evaluate**"
      ],
      "metadata": {
        "id": "65ErH43BeVaB"
      }
    },
    {
      "cell_type": "code",
      "source": [
        "loss, accuracy = model.evaluate(X_test, y_test)\n",
        "print(f\"Accuracy: {accuracy:.2f}\")"
      ],
      "metadata": {
        "colab": {
          "base_uri": "https://localhost:8080/"
        },
        "id": "TUsmnGBAe3GP",
        "outputId": "6145982a-36a6-4c4c-b154-dcc475c5ed95"
      },
      "execution_count": null,
      "outputs": [
        {
          "output_type": "stream",
          "name": "stdout",
          "text": [
            "1/1 [==============================] - 0s 39ms/step - loss: 0.1371 - accuracy: 1.0000\n",
            "Accuracy: 1.00\n"
          ]
        }
      ]
    },
    {
      "cell_type": "markdown",
      "source": [
        "# **Visualization**"
      ],
      "metadata": {
        "id": "ExMnZBSWe6HP"
      }
    },
    {
      "cell_type": "code",
      "source": [
        "new_data = np.array([[6.4, 2.8, 5.5, 2.2]])\n",
        "new_data_scaled = scaler.transform(new_data)\n",
        "prediction = model.predict(new_data_scaled)\n",
        "predicted_class = np.argmax(prediction)\n",
        "\n",
        "print(f\"Predicted class: {predicted_class} ({iris.target_names[predicted_class]})\")"
      ],
      "metadata": {
        "colab": {
          "base_uri": "https://localhost:8080/"
        },
        "id": "vX1b71MKfAU7",
        "outputId": "a3338ad1-199b-45eb-ee5b-f34a31debe31"
      },
      "execution_count": null,
      "outputs": [
        {
          "output_type": "stream",
          "name": "stdout",
          "text": [
            "1/1 [==============================] - 0s 18ms/step\n",
            "Predicted class: 2 (virginica)\n"
          ]
        }
      ]
    }
  ]
}