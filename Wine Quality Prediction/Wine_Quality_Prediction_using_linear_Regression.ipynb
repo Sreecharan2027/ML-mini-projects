{
  "nbformat": 4,
  "nbformat_minor": 0,
  "metadata": {
    "colab": {
      "provenance": [],
      "gpuType": "T4"
    },
    "kernelspec": {
      "name": "python3",
      "display_name": "Python 3"
    },
    "language_info": {
      "name": "python"
    }
  },
  "cells": [
    {
      "cell_type": "markdown",
      "source": [
        "# **Import Libaries**\n"
      ],
      "metadata": {
        "id": "8LVvIxF2L9FC"
      }
    },
    {
      "cell_type": "code",
      "source": [
        "import pandas as pd\n",
        "from sklearn.model_selection import train_test_split, cross_val_score\n",
        "from sklearn.linear_model import LinearRegression\n",
        "from sklearn.metrics import mean_squared_error\n",
        "from sklearn.preprocessing import LabelEncoder, OneHotEncoder\n",
        "from sklearn.compose import ColumnTransformer\n",
        "from sklearn.pipeline import Pipeline\n",
        "from sklearn.impute import SimpleImputer"
      ],
      "metadata": {
        "id": "4RkpEoabMIIE"
      },
      "execution_count": null,
      "outputs": []
    },
    {
      "cell_type": "markdown",
      "source": [
        "# **Load the data**"
      ],
      "metadata": {
        "id": "uW91SaGGMLbk"
      }
    },
    {
      "cell_type": "code",
      "source": [
        "wine_data = pd.read_csv('wine_dataset.csv')\n",
        "\n",
        "\n",
        "print(wine_data.isnull().sum())\n",
        "\n",
        "\n",
        "X = wine_data.drop('quality', axis=1)\n",
        "y = wine_data['quality']\n",
        "\n",
        "\n",
        "label_encoder = LabelEncoder()\n",
        "X['type'] = label_encoder.fit_transform(X['type'])"
      ],
      "metadata": {
        "colab": {
          "base_uri": "https://localhost:8080/"
        },
        "id": "qkV7ItbjMRlr",
        "outputId": "556102d3-919f-4691-f838-4649d23901c7"
      },
      "execution_count": null,
      "outputs": [
        {
          "output_type": "stream",
          "name": "stdout",
          "text": [
            "type                     0\n",
            "fixed acidity           10\n",
            "volatile acidity         8\n",
            "citric acid              3\n",
            "residual sugar           2\n",
            "chlorides                2\n",
            "free sulfur dioxide      0\n",
            "total sulfur dioxide     0\n",
            "density                  0\n",
            "pH                       9\n",
            "sulphates                4\n",
            "alcohol                  0\n",
            "quality                  0\n",
            "dtype: int64\n"
          ]
        }
      ]
    },
    {
      "cell_type": "markdown",
      "source": [
        "# **Split the data**"
      ],
      "metadata": {
        "id": "gKtBzmlgMXc5"
      }
    },
    {
      "cell_type": "code",
      "source": [
        "X_train, X_test, y_train, y_test = train_test_split(X, y, test_size=0.2, random_state=42)"
      ],
      "metadata": {
        "id": "qUxEAMDIMco2"
      },
      "execution_count": null,
      "outputs": []
    },
    {
      "cell_type": "code",
      "source": [
        "preprocessor = ColumnTransformer(\n",
        "    transformers=[\n",
        "        ('imputer', SimpleImputer(strategy='mean'), X.columns),  # impute missing values with mean\n",
        "        ('onehot', OneHotEncoder(), ['type']),\n",
        "    ],\n",
        ")"
      ],
      "metadata": {
        "id": "e1tMYoE6Q2kO"
      },
      "execution_count": null,
      "outputs": []
    },
    {
      "cell_type": "markdown",
      "source": [
        "# **Model Creation**"
      ],
      "metadata": {
        "id": "iibWPQZUMgCM"
      }
    },
    {
      "cell_type": "code",
      "source": [
        "model = LinearRegression()"
      ],
      "metadata": {
        "id": "QecqvAlnMmnq"
      },
      "execution_count": null,
      "outputs": []
    },
    {
      "cell_type": "code",
      "source": [
        "pipeline = Pipeline([\n",
        "    ('preprocessor', preprocessor),\n",
        "    ('model', model),\n",
        "])\n"
      ],
      "metadata": {
        "id": "bLMPig9wQ3mq"
      },
      "execution_count": null,
      "outputs": []
    },
    {
      "cell_type": "markdown",
      "source": [
        "# **Perform cross-validation**"
      ],
      "metadata": {
        "id": "JUPiZuSzMrY0"
      }
    },
    {
      "cell_type": "code",
      "source": [
        "cv_scores = cross_val_score(pipeline, X, y, cv=5, scoring='neg_mean_squared_error', error_score='raise')\n",
        "cv_mse = -cv_scores.mean()\n",
        "\n",
        "print(f'Cross-validated Mean Squared Error: {cv_mse}')"
      ],
      "metadata": {
        "colab": {
          "base_uri": "https://localhost:8080/"
        },
        "id": "-jQKT0AjMy80",
        "outputId": "235a36fa-2bca-4c7a-ce5c-2f986d84169a"
      },
      "execution_count": null,
      "outputs": [
        {
          "output_type": "stream",
          "name": "stdout",
          "text": [
            "Cross-validated Mean Squared Error: 0.5563245952170608\n"
          ]
        }
      ]
    },
    {
      "cell_type": "markdown",
      "source": [
        "# **Train the Data**"
      ],
      "metadata": {
        "id": "iFStSjuiM2Jw"
      }
    },
    {
      "cell_type": "code",
      "source": [
        "pipeline.fit(X_train, y_train)\n",
        "\n",
        "\n",
        "y_pred = pipeline.predict(X_test)"
      ],
      "metadata": {
        "id": "Y4w7otxjM8W3"
      },
      "execution_count": null,
      "outputs": []
    },
    {
      "cell_type": "markdown",
      "source": [
        "# **Evaluate**"
      ],
      "metadata": {
        "id": "mkox2wAgNFMM"
      }
    },
    {
      "cell_type": "code",
      "source": [
        "mse = mean_squared_error(y_test, y_pred)\n",
        "\n",
        "print(f'Mean Squared Error on Test Set: {mse}')"
      ],
      "metadata": {
        "colab": {
          "base_uri": "https://localhost:8080/"
        },
        "id": "uHUK3b-jNJRL",
        "outputId": "9384cdd4-b4bd-4b60-9a8a-329901ed9cd1"
      },
      "execution_count": null,
      "outputs": [
        {
          "output_type": "stream",
          "name": "stdout",
          "text": [
            "Mean Squared Error on Test Set: 0.47142720502577423\n"
          ]
        }
      ]
    },
    {
      "cell_type": "markdown",
      "source": [
        "# **Visualization**"
      ],
      "metadata": {
        "id": "IbmMjPtANLln"
      }
    },
    {
      "cell_type": "code",
      "source": [
        "plt.scatter(y_test, y_pred)\n",
        "plt.xlabel('Actual Quality')\n",
        "plt.ylabel('Predicted Quality')\n",
        "plt.title('Actual vs. Predicted Quality of Wine')\n",
        "plt.show()\n",
        "print('\\n')\n",
        "print(f'Cross-validated Mean Squared Error: {cv_mse}\\n')\n",
        "\n",
        "print(f'Mean Squared Error on Test Set: {mse}\\n')"
      ],
      "metadata": {
        "colab": {
          "base_uri": "https://localhost:8080/",
          "height": 576
        },
        "id": "MCdy-yEfNQWF",
        "outputId": "6ece5154-e300-4c96-9d54-e253cd8087ff"
      },
      "execution_count": null,
      "outputs": [
        {
          "output_type": "display_data",
          "data": {
            "text/plain": [
              "<Figure size 640x480 with 1 Axes>"
            ],
            "image/png": "[encoded data removed]"
          },
          "metadata": {}
        },
        {
          "output_type": "stream",
          "name": "stdout",
          "text": [
            "\n",
            "\n",
            "Cross-validated Mean Squared Error: 0.5563245952170608\n",
            "\n",
            "Mean Squared Error on Test Set: 0.47142720502577423\n",
            "\n"
          ]
        }
      ]
    }
  ]
}